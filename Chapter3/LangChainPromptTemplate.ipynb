{
 "cells": [
  {
   "cell_type": "code",
   "execution_count": null,
   "id": "154f8866-43e8-4c98-b6bc-6dd29e3f7769",
   "metadata": {},
   "outputs": [],
   "source": [
    "import os\n",
    "os.environ['OPENAI_API_KEY'] = 'YOUR_OPENAI_APIKEY'"
   ]
  },
  {
   "cell_type": "code",
   "execution_count": null,
   "id": "8ab63ea1-85d1-4876-8d97-b5408fca17fe",
   "metadata": {},
   "outputs": [],
   "source": [
    "from langchain_openai import ChatOpenAI\n",
    "from langchain_core.messages import HumanMessage\n",
    "from langchain_core.prompts import PromptTemplate"
   ]
  },
  {
   "cell_type": "code",
   "execution_count": null,
   "id": "ca6ad383-63e6-48fa-93e9-e477f9b6bac0",
   "metadata": {},
   "outputs": [],
   "source": [
    "llm = ChatOpenAI(model=\"gpt-4o-mini\")"
   ]
  },
  {
   "cell_type": "code",
   "execution_count": null,
   "id": "099b938c-7109-4977-bf4b-704f9645753e",
   "metadata": {},
   "outputs": [],
   "source": [
    "word1 = \"南国のビーチ\"\n",
    "word2 = \"警官の休日\""
   ]
  },
  {
   "cell_type": "code",
   "execution_count": null,
   "id": "c5cc53e5-1cc0-42c8-b295-6228c0409347",
   "metadata": {},
   "outputs": [],
   "source": [
    "prompt = PromptTemplate.from_template(\"{word1}とかけて{word2}と解きます。その心は？\")"
   ]
  },
  {
   "cell_type": "code",
   "execution_count": null,
   "id": "b8ac1308-155d-41f8-953b-cb0ef5b609ac",
   "metadata": {},
   "outputs": [],
   "source": [
    "output = llm.invoke([HumanMessage(content=prompt.format(word1=word1, word2=word2))])"
   ]
  },
  {
   "cell_type": "code",
   "execution_count": null,
   "id": "0104fcd5-70ca-405f-ad80-134bf55c15d3",
   "metadata": {},
   "outputs": [],
   "source": [
    "output"
   ]
  },
  {
   "cell_type": "code",
   "execution_count": null,
   "id": "7cc6b7b5-887d-4b5d-977a-d464d80732fd",
   "metadata": {},
   "outputs": [],
   "source": [
    "output.content"
   ]
  },
  {
   "cell_type": "code",
   "execution_count": null,
   "id": "69a92305-80f0-48c0-bc76-89090837c4b7",
   "metadata": {},
   "outputs": [],
   "source": []
  },
  {
   "cell_type": "code",
   "execution_count": null,
   "id": "100f5b94-ba10-47ae-bf58-fb4504e9dd68",
   "metadata": {},
   "outputs": [],
   "source": []
  }
 ],
 "metadata": {
  "kernelspec": {
   "display_name": "Python 3 (ipykernel)",
   "language": "python",
   "name": "python3"
  },
  "language_info": {
   "codemirror_mode": {
    "name": "ipython",
    "version": 3
   },
   "file_extension": ".py",
   "mimetype": "text/x-python",
   "name": "python",
   "nbconvert_exporter": "python",
   "pygments_lexer": "ipython3",
   "version": "3.12.4"
  }
 },
 "nbformat": 4,
 "nbformat_minor": 5
}
