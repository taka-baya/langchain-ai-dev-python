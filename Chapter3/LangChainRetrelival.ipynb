{
 "cells": [
  {
   "cell_type": "code",
   "execution_count": null,
   "id": "9fa9736f-d569-4f34-8c0d-ff16224574c5",
   "metadata": {},
   "outputs": [],
   "source": [
    "import os\n",
    "os.environ['OPENAI_API_KEY'] = 'YOUR_OPENAI_APIKEY'"
   ]
  },
  {
   "cell_type": "code",
   "execution_count": null,
   "id": "251d5688-74f3-4166-9ca3-7cecc5b5b56e",
   "metadata": {},
   "outputs": [],
   "source": [
    "from langchain_openai import OpenAIEmbeddings\n",
    "from langchain_community.document_loaders.csv_loader import CSVLoader"
   ]
  },
  {
   "cell_type": "code",
   "execution_count": null,
   "id": "98dceb57-78cc-449a-a349-44131d7a4171",
   "metadata": {},
   "outputs": [],
   "source": [
    "openAIEmbeddings = OpenAIEmbeddings(model=\"text-embedding-3-large\")"
   ]
  },
  {
   "cell_type": "code",
   "execution_count": null,
   "id": "0df620c2-11f4-467a-8997-8e653b7cd8f1",
   "metadata": {},
   "outputs": [],
   "source": [
    "file_path = \"./qa_data_for_radare2.csv\""
   ]
  },
  {
   "cell_type": "code",
   "execution_count": null,
   "id": "4c38ae60-e57e-46eb-a41e-e28e962ff47e",
   "metadata": {},
   "outputs": [],
   "source": [
    "loader = CSVLoader(file_path=file_path)"
   ]
  },
  {
   "cell_type": "code",
   "execution_count": null,
   "id": "5db7f2ca-ce65-49bf-952d-e9dbacd8ff39",
   "metadata": {},
   "outputs": [],
   "source": [
    "doc_data = loader.load()"
   ]
  },
  {
   "cell_type": "code",
   "execution_count": null,
   "id": "899481e9-edc3-46f4-8ea4-fe6a86d9c893",
   "metadata": {},
   "outputs": [],
   "source": [
    "print(doc_data)"
   ]
  },
  {
   "cell_type": "code",
   "execution_count": null,
   "id": "e2277925-239c-4783-8c36-904f30ff0002",
   "metadata": {},
   "outputs": [],
   "source": [
    "print(doc_data[0].page_content)"
   ]
  },
  {
   "cell_type": "code",
   "execution_count": null,
   "id": "e91b4d5a-42c8-4735-89b4-ac136a66a5e5",
   "metadata": {},
   "outputs": [],
   "source": []
  },
  {
   "cell_type": "code",
   "execution_count": null,
   "id": "cec3278d-c69b-43ef-a16e-7ff2e33c1eb6",
   "metadata": {},
   "outputs": [],
   "source": [
    "import chromadb\n",
    "from uuid import uuid4"
   ]
  },
  {
   "cell_type": "code",
   "execution_count": null,
   "id": "5cbdb212-ea4c-4979-9791-9f96601f0fb1",
   "metadata": {},
   "outputs": [],
   "source": [
    "persist_directory = \"./vector_chroma_db\"\n",
    "client = chromadb.PersistentClient(path=persist_directory)"
   ]
  },
  {
   "cell_type": "code",
   "execution_count": null,
   "id": "d3d46c3f-597e-47d3-b7ec-d3796de29f30",
   "metadata": {},
   "outputs": [],
   "source": [
    "db = Chroma(\n",
    "    client=client,\n",
    "    collection_name=\"my_collection\",\n",
    "    embedding_function=openAIEmbeddings\n",
    ")"
   ]
  },
  {
   "cell_type": "code",
   "execution_count": null,
   "id": "f098557c-ed16-4070-8ca3-23030af22005",
   "metadata": {},
   "outputs": [],
   "source": [
    "uuids = [str(uuid4()) for _ in range(len(doc_data))]"
   ]
  },
  {
   "cell_type": "code",
   "execution_count": null,
   "id": "07ca8f62-c17f-4173-b6b6-3aa54620af1e",
   "metadata": {},
   "outputs": [],
   "source": [
    "db.add_documents(documents=doc_data, ids=uuids)"
   ]
  },
  {
   "cell_type": "code",
   "execution_count": null,
   "id": "446ced3c-7ee8-4548-b128-11644701c2fa",
   "metadata": {},
   "outputs": [],
   "source": []
  },
  {
   "cell_type": "code",
   "execution_count": null,
   "id": "f9011130-a4fb-4589-9013-8d6b0b95710e",
   "metadata": {},
   "outputs": [],
   "source": [
    "from langchain_chroma import Chroma"
   ]
  },
  {
   "cell_type": "code",
   "execution_count": null,
   "id": "25314c78-9863-488c-ac76-d892a257a233",
   "metadata": {},
   "outputs": [],
   "source": [
    "vector_store_load = Chroma(\n",
    "    persist_directory=\"./vector_chroma_db\",\n",
    "    collection_name=\"my_collection\",\n",
    "    embedding_function=openAIEmbeddings,\n",
    ")"
   ]
  },
  {
   "cell_type": "code",
   "execution_count": null,
   "id": "79108c3b-c8bf-430a-83fa-932cd40118a8",
   "metadata": {},
   "outputs": [],
   "source": [
    "results = vector_store_load.asimilarity_search_with_relevance_scores(\n",
    "    query,\n",
    "    k=2,\n",
    ")"
   ]
  },
  {
   "cell_type": "code",
   "execution_count": null,
   "id": "03f85026-2d3f-4447-acca-2671294f2d92",
   "metadata": {},
   "outputs": [],
   "source": []
  },
  {
   "cell_type": "code",
   "execution_count": null,
   "id": "34a0ed3f-2089-4e13-ba6d-812a2cf7ed9b",
   "metadata": {},
   "outputs": [],
   "source": []
  },
  {
   "cell_type": "code",
   "execution_count": null,
   "id": "e6bed7f7-3337-4c30-a598-b107ac838c34",
   "metadata": {},
   "outputs": [],
   "source": []
  }
 ],
 "metadata": {
  "kernelspec": {
   "display_name": "Python 3 (ipykernel)",
   "language": "python",
   "name": "python3"
  },
  "language_info": {
   "codemirror_mode": {
    "name": "ipython",
    "version": 3
   },
   "file_extension": ".py",
   "mimetype": "text/x-python",
   "name": "python",
   "nbconvert_exporter": "python",
   "pygments_lexer": "ipython3",
   "version": "3.12.4"
  }
 },
 "nbformat": 4,
 "nbformat_minor": 5
}
