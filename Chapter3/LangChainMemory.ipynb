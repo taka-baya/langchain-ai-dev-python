{
 "cells": [
  {
   "cell_type": "code",
   "execution_count": null,
   "id": "b29f84da-5953-4dc5-bdcf-7398ea58311e",
   "metadata": {},
   "outputs": [],
   "source": [
    "import os\n",
    "os.environ['OPENAI_API_KEY'] = 'YOUR_OPENAI_APIKEY"
   ]
  },
  {
   "cell_type": "code",
   "execution_count": null,
   "id": "e62f2ee6-98a0-436a-8bfc-86ca7b5e0625",
   "metadata": {},
   "outputs": [],
   "source": [
    "from langchain.chat_models import ChatOpenAI\n",
    "from langchain.schema import HumanMessage\n",
    "from langchain.memory import ChatMessageHistory, FileChatMessageHistory"
   ]
  },
  {
   "cell_type": "code",
   "execution_count": null,
   "id": "3a2e9f9b-d23f-4157-89e1-a7f335498f7b",
   "metadata": {},
   "outputs": [],
   "source": [
    "llm = ChatOpenAI(model=\"gpt-4o-mini\")"
   ]
  },
  {
   "cell_type": "code",
   "execution_count": null,
   "id": "039128dc-ddc9-461c-a14f-96ce1fa8c6df",
   "metadata": {},
   "outputs": [],
   "source": [
    "memory = ChatMessageHistory()"
   ]
  },
  {
   "cell_type": "code",
   "execution_count": null,
   "id": "9b5186e6-8baa-40e3-a6a4-f36f55dd7e9b",
   "metadata": {},
   "outputs": [],
   "source": [
    "human_message = HumanMessage(content=\"こんにちは、今日は天気がいいので散歩に行きます。\")\n",
    "messages = [human_message]"
   ]
  },
  {
   "cell_type": "code",
   "execution_count": null,
   "id": "748b0c14-2a23-4459-9b77-0cd012205ede",
   "metadata": {},
   "outputs": [],
   "source": [
    "response = llm.invoke(messages)"
   ]
  },
  {
   "cell_type": "code",
   "execution_count": null,
   "id": "b3c57723-3db2-43a4-9f52-4a9ec063e642",
   "metadata": {},
   "outputs": [],
   "source": [
    "memory.add_user_message(human_message.content)\n",
    "memory.add_ai_message(response.content)"
   ]
  },
  {
   "cell_type": "code",
   "execution_count": null,
   "id": "8d2618c7-1520-43b5-96e2-80dbef0a653b",
   "metadata": {},
   "outputs": [],
   "source": [
    "file_memory = FileChatMessageHistory(\"chat_history.json\")\n",
    "for message in memory.messages:\n",
    "    if isinstance(message, HumanMessage):\n",
    "        file_memory.add_user_message(message.content)\n",
    "    else:\n",
    "        file_memory.add_ai_message(message.content)"
   ]
  },
  {
   "cell_type": "code",
   "execution_count": null,
   "id": "4e98e572-2428-4c2f-9542-c0b1148875cf",
   "metadata": {},
   "outputs": [],
   "source": []
  },
  {
   "cell_type": "code",
   "execution_count": null,
   "id": "f4cecbee-ad29-4599-9205-d46faf8887c9",
   "metadata": {},
   "outputs": [],
   "source": [
    "loaded_memory = FileChatMessageHistory(\"chat_history.json\")\n",
    "loaded_messages = loaded_memory.messages"
   ]
  },
  {
   "cell_type": "code",
   "execution_count": null,
   "id": "a8dbcce2-e60d-4fe1-8d53-bb85dfebcd0d",
   "metadata": {},
   "outputs": [],
   "source": [
    "for message in loaded_messages:\n",
    "    print(f\"{'User' if isinstance(message, HumanMessage) else 'AI'}: {message.content}\")"
   ]
  },
  {
   "cell_type": "code",
   "execution_count": null,
   "id": "eb3409b6-edc2-4ccb-9d82-13cc5d7308bc",
   "metadata": {},
   "outputs": [],
   "source": []
  },
  {
   "cell_type": "code",
   "execution_count": null,
   "id": "7694953a-aad1-4288-84ca-d48911cfa4ac",
   "metadata": {},
   "outputs": [],
   "source": []
  }
 ],
 "metadata": {
  "kernelspec": {
   "display_name": "Python 3 (ipykernel)",
   "language": "python",
   "name": "python3"
  },
  "language_info": {
   "codemirror_mode": {
    "name": "ipython",
    "version": 3
   },
   "file_extension": ".py",
   "mimetype": "text/x-python",
   "name": "python",
   "nbconvert_exporter": "python",
   "pygments_lexer": "ipython3",
   "version": "3.12.4"
  }
 },
 "nbformat": 4,
 "nbformat_minor": 5
}
