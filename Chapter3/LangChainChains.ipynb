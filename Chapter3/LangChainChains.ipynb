{
 "cells": [
  {
   "cell_type": "code",
   "execution_count": null,
   "id": "105eafdd-e0b4-4201-a18a-86628ddc1bf2",
   "metadata": {},
   "outputs": [],
   "source": [
    "import os\n",
    "os.environ['OPENAI_API_KEY'] = 'YOUR_OPENAI_APIKEY'"
   ]
  },
  {
   "cell_type": "code",
   "execution_count": null,
   "id": "f11aea4b-1231-4cf9-ba55-4792b29279ef",
   "metadata": {},
   "outputs": [],
   "source": [
    "from langchain_openai import ChatOpenAI\n",
    "from langchain_core.output_parsers import StrOutputParser\n",
    "from langchain.prompts import PromptTemplate"
   ]
  },
  {
   "cell_type": "code",
   "execution_count": null,
   "id": "3e2ce84d-5d38-4f64-b27a-2d8229b2377f",
   "metadata": {},
   "outputs": [],
   "source": [
    "llm = ChatOpenAI(model=\"gpt-4o-mini\")"
   ]
  },
  {
   "cell_type": "code",
   "execution_count": null,
   "id": "ab0a68d0-8770-433a-a546-064f9d01945a",
   "metadata": {},
   "outputs": [],
   "source": [
    "qa_prompt = PromptTemplate(\n",
    "    input_variables=[\"question\"],\n",
    "    template=\"ユーザーの質問: {question}\\n回答:\"\n",
    ")"
   ]
  },
  {
   "cell_type": "code",
   "execution_count": null,
   "id": "f4b13f54-e7e8-4fb5-b0c2-55f43685ef8a",
   "metadata": {},
   "outputs": [],
   "source": [
    "translation_prompt = PromptTemplate(\n",
    "    input_variables=[\"text\"],\n",
    "    template=\"以下の日本語テキストを英語に翻訳してください:\\n\\n{text}\\n\\n英語訳:\"\n",
    ")"
   ]
  },
  {
   "cell_type": "code",
   "execution_count": null,
   "id": "39f62963-f80d-4e80-8b46-e66a0e0fbc36",
   "metadata": {},
   "outputs": [],
   "source": [
    "qa_chain = qa_prompt | llm | StrOutputParser()\n",
    "translation_chain = translation_prompt | llm | StrOutputParser()"
   ]
  },
  {
   "cell_type": "code",
   "execution_count": null,
   "id": "a8d63edb-440e-4204-b18b-326d68dbc949",
   "metadata": {},
   "outputs": [],
   "source": [
    "overall_chain = (lambda x: qa_chain.invoke({\"question\": x})) | translation_chain"
   ]
  },
  {
   "cell_type": "code",
   "execution_count": null,
   "id": "30a51c91-d245-4503-b53d-b0a1b1b4a8a8",
   "metadata": {},
   "outputs": [],
   "source": [
    "query = \"人工知能の未来について教えてください。\"\n",
    "result = overall_chain.invoke(query)"
   ]
  },
  {
   "cell_type": "code",
   "execution_count": null,
   "id": "ba1c8e52-79e1-4e75-a7df-04b9734eb12d",
   "metadata": {},
   "outputs": [],
   "source": [
    "print(result)"
   ]
  },
  {
   "cell_type": "code",
   "execution_count": null,
   "id": "5960e4c3-3356-4daa-b599-5921be993c19",
   "metadata": {},
   "outputs": [],
   "source": []
  }
 ],
 "metadata": {
  "kernelspec": {
   "display_name": "Python 3 (ipykernel)",
   "language": "python",
   "name": "python3"
  },
  "language_info": {
   "codemirror_mode": {
    "name": "ipython",
    "version": 3
   },
   "file_extension": ".py",
   "mimetype": "text/x-python",
   "name": "python",
   "nbconvert_exporter": "python",
   "pygments_lexer": "ipython3",
   "version": "3.12.4"
  }
 },
 "nbformat": 4,
 "nbformat_minor": 5
}
