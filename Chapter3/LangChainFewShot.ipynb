{
 "cells": [
  {
   "cell_type": "code",
   "execution_count": null,
   "id": "e2de15b4-7c1f-4fe9-b099-1afc09c49f16",
   "metadata": {},
   "outputs": [],
   "source": [
    "import os\n",
    "os.environ['OPENAI_API_KEY'] = 'YOUR_OPENAI_APIKEY'"
   ]
  },
  {
   "cell_type": "code",
   "execution_count": null,
   "id": "a1825306-f339-46b3-81a8-ffbec721f063",
   "metadata": {},
   "outputs": [],
   "source": [
    "from langchain.prompts import FewShotPromptTemplate, PromptTemplate\n",
    "from langchain_openai import ChatOpenAI"
   ]
  },
  {
   "cell_type": "code",
   "execution_count": null,
   "id": "1c29ce75-8ed1-43b9-903d-67c78b4dda85",
   "metadata": {},
   "outputs": [],
   "source": [
    "llm = ChatOpenAI(model=\"gpt-4o-mini\")"
   ]
  },
  {
   "cell_type": "code",
   "execution_count": null,
   "id": "72cd9a7e-d34c-493e-a408-00361ee1508e",
   "metadata": {},
   "outputs": [],
   "source": [
    "examples = [\n",
    "    {\"input\": \"これはペンですか？\", \"output\": \"質問\"},\n",
    "    {\"input\": \"今日の天気は？\", \"output\": \"質問\"},\n",
    "    {\"input\": \"私は昨日映画を見ました。\", \"output\": \"文章\"}\n",
    "]"
   ]
  },
  {
   "cell_type": "code",
   "execution_count": null,
   "id": "7415d818-03f5-4825-b37e-0d63c4337136",
   "metadata": {},
   "outputs": [],
   "source": [
    "example_formatter_template = \"\"\"\n",
    "入力: {input}\n",
    "出力: {output}\n",
    "\"\"\""
   ]
  },
  {
   "cell_type": "code",
   "execution_count": null,
   "id": "9c17f6d7-904b-4d12-8019-4aa725723ed8",
   "metadata": {},
   "outputs": [],
   "source": [
    "example_prompt = PromptTemplate(\n",
    "    input_variables=[\"input\", \"output\"],\n",
    "    template=example_formatter_template\n",
    ")"
   ]
  },
  {
   "cell_type": "code",
   "execution_count": null,
   "id": "32335bd7-d558-43a0-a091-b28ed2426afa",
   "metadata": {},
   "outputs": [],
   "source": [
    "few_shot_prompt = FewShotPromptTemplate(\n",
    "    examples=examples,\n",
    "    example_prompt=example_prompt,\n",
    "    prefix=\"以下は入力文が質問か文章かを分類する例です：\",\n",
    "    suffix=\"入力: {input}\\n出力:\",\n",
    "    input_variables=[\"input\"],\n",
    ")"
   ]
  },
  {
   "cell_type": "code",
   "execution_count": null,
   "id": "96e0fead-acf2-4245-900e-36f7372891f3",
   "metadata": {},
   "outputs": [],
   "source": [
    "print(few_shot_prompt)"
   ]
  },
  {
   "cell_type": "code",
   "execution_count": null,
   "id": "127ba869-269a-4262-a92c-e781a6aec16a",
   "metadata": {},
   "outputs": [],
   "source": [
    "formatted_prompt = few_shot_prompt.format(input=\"あなたの名前は何ですか？ \")"
   ]
  },
  {
   "cell_type": "code",
   "execution_count": null,
   "id": "c1e1d15a-fbc2-45ab-8c75-e892af510a90",
   "metadata": {},
   "outputs": [],
   "source": [
    "output = llm.invoke(formatted_prompt)"
   ]
  },
  {
   "cell_type": "code",
   "execution_count": null,
   "id": "732f6332-c325-40d8-b9db-0748956deaac",
   "metadata": {},
   "outputs": [],
   "source": [
    "output.content"
   ]
  }
 ],
 "metadata": {
  "kernelspec": {
   "display_name": "Python 3 (ipykernel)",
   "language": "python",
   "name": "python3"
  },
  "language_info": {
   "codemirror_mode": {
    "name": "ipython",
    "version": 3
   },
   "file_extension": ".py",
   "mimetype": "text/x-python",
   "name": "python",
   "nbconvert_exporter": "python",
   "pygments_lexer": "ipython3",
   "version": "3.12.4"
  }
 },
 "nbformat": 4,
 "nbformat_minor": 5
}
