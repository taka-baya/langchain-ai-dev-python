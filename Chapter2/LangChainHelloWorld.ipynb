{
 "cells": [
  {
   "cell_type": "code",
   "execution_count": null,
   "id": "d5271660-4a1b-4bb9-af2b-c7f73073ed29",
   "metadata": {},
   "outputs": [],
   "source": [
    "import os\n",
    "os.environ['OPENAI_API_KEY'] = 'YOUR_OPENAI_APIKEY'"
   ]
  },
  {
   "cell_type": "code",
   "execution_count": null,
   "id": "5143f38c-3769-475a-8b2d-936e5b1c16d1",
   "metadata": {},
   "outputs": [],
   "source": [
    "from langchain_openai import ChatOpenAI"
   ]
  },
  {
   "cell_type": "code",
   "execution_count": null,
   "id": "498c7d0a-6006-447a-b544-42db2d462ab2",
   "metadata": {},
   "outputs": [],
   "source": [
    "llm = ChatOpenAI(model=\"gpt-4o-mini\")"
   ]
  },
  {
   "cell_type": "code",
   "execution_count": null,
   "id": "2e7b5b41-5943-46a0-8e26-c2f2ee99885c",
   "metadata": {},
   "outputs": [],
   "source": [
    "query = \"生成AIについて140文字以内で教えてください\""
   ]
  },
  {
   "cell_type": "code",
   "execution_count": null,
   "id": "3b30bb89-eda1-4a6f-924d-b74b24d1cb54",
   "metadata": {},
   "outputs": [],
   "source": [
    "output = llm.invoke(query)"
   ]
  },
  {
   "cell_type": "code",
   "execution_count": null,
   "id": "8cc115aa-295e-42bc-b569-305fe0d8b2ff",
   "metadata": {},
   "outputs": [],
   "source": [
    "output"
   ]
  },
  {
   "cell_type": "code",
   "execution_count": null,
   "id": "cd322bee-36bf-4c35-9e5a-77340fd68090",
   "metadata": {},
   "outputs": [],
   "source": []
  },
  {
   "cell_type": "code",
   "execution_count": null,
   "id": "af2306ac-9df7-4651-9ff4-65350ce80b4d",
   "metadata": {},
   "outputs": [],
   "source": []
  }
 ],
 "metadata": {
  "kernelspec": {
   "display_name": "Python 3 (ipykernel)",
   "language": "python",
   "name": "python3"
  },
  "language_info": {
   "codemirror_mode": {
    "name": "ipython",
    "version": 3
   },
   "file_extension": ".py",
   "mimetype": "text/x-python",
   "name": "python",
   "nbconvert_exporter": "python",
   "pygments_lexer": "ipython3",
   "version": "3.12.4"
  }
 },
 "nbformat": 4,
 "nbformat_minor": 5
}
