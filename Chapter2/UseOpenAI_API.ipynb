{
 "cells": [
  {
   "cell_type": "code",
   "execution_count": 1,
   "id": "c3829129-1801-491c-bff1-a8582b99cf7d",
   "metadata": {},
   "outputs": [],
   "source": [
    "from openai import OpenAI\n",
    "key = \"YOUR_OPENAI_APIKEY\""
   ]
  },
  {
   "cell_type": "code",
   "execution_count": null,
   "id": "5a992de0-6f29-4053-a43e-c03fe4e531fe",
   "metadata": {},
   "outputs": [],
   "source": [
    "client = OpenAI(api_key = key)"
   ]
  },
  {
   "cell_type": "code",
   "execution_count": null,
   "id": "46f818cc-ff70-4c8b-a046-073ca7231cb6",
   "metadata": {},
   "outputs": [],
   "source": [
    "completion = client.chat.completions.create(\n",
    "    model=\"gpt-4o-mini\",\n",
    "    messages=[\n",
    "        {\"role\": \"user\", \"content\": \"Hello How Are you\"}\n",
    "    ]\n",
    ")"
   ]
  },
  {
   "cell_type": "code",
   "execution_count": null,
   "id": "77dddb5f-c72f-421f-a8a6-0d32d521a5dc",
   "metadata": {},
   "outputs": [],
   "source": [
    "print(completion.choices[0].message.content)"
   ]
  },
  {
   "cell_type": "code",
   "execution_count": null,
   "id": "9c96b98d-f0dd-498f-83e6-56ab1391e285",
   "metadata": {},
   "outputs": [],
   "source": []
  }
 ],
 "metadata": {
  "kernelspec": {
   "display_name": "Python 3 (ipykernel)",
   "language": "python",
   "name": "python3"
  },
  "language_info": {
   "codemirror_mode": {
    "name": "ipython",
    "version": 3
   },
   "file_extension": ".py",
   "mimetype": "text/x-python",
   "name": "python",
   "nbconvert_exporter": "python",
   "pygments_lexer": "ipython3",
   "version": "3.12.4"
  }
 },
 "nbformat": 4,
 "nbformat_minor": 5
}
