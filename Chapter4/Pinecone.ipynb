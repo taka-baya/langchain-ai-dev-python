{
 "cells": [
  {
   "cell_type": "code",
   "execution_count": null,
   "id": "7b11a105-60ce-4ffa-8750-1362d26d3b4e",
   "metadata": {},
   "outputs": [],
   "source": [
    "import os\n",
    "os.environ['OPENAI_API_KEY'] = 'YOUR_OPENAI_APIKEY'\n",
    "os.environ['PINECONE_API_KEY'] = 'YOUR_PINECONE_APIKEY'"
   ]
  },
  {
   "cell_type": "code",
   "execution_count": null,
   "id": "d75979ae-864d-4d2d-b343-9f0a1ff606fc",
   "metadata": {},
   "outputs": [],
   "source": [
    "from langchain_openai import OpenAIEmbeddings\n",
    "from langchain_community.document_loaders.csv_loader import CSVLoader\n",
    "from langchain_pinecone import PineconeVectorStore\n",
    "from pinecone import Pinecone, ServerlessSpec"
   ]
  },
  {
   "cell_type": "code",
   "execution_count": null,
   "id": "66d485e1-bec9-4a34-a7fc-4e22ee585aa0",
   "metadata": {},
   "outputs": [],
   "source": [
    "openAIEmbeddings = OpenAIEmbeddings(model=\"text-embedding-3-large\")"
   ]
  },
  {
   "cell_type": "code",
   "execution_count": null,
   "id": "a1f89df5-8688-4904-9d61-73dd6014d9f8",
   "metadata": {},
   "outputs": [],
   "source": [
    "file_path = \"./curry_menu_japanese.csv\""
   ]
  },
  {
   "cell_type": "code",
   "execution_count": null,
   "id": "58eeb69a-9f97-47e1-91e8-57a4ef0bd542",
   "metadata": {},
   "outputs": [],
   "source": [
    "loader = CSVLoader(file_path=file_path)"
   ]
  },
  {
   "cell_type": "code",
   "execution_count": null,
   "id": "a9b96727-fdcf-4b63-909d-c4b1a7b73c3b",
   "metadata": {},
   "outputs": [],
   "source": [
    "doc_data = loader.load()"
   ]
  },
  {
   "cell_type": "code",
   "execution_count": null,
   "id": "37ded03a-640f-43c9-99ae-0f6c05f1842a",
   "metadata": {},
   "outputs": [],
   "source": []
  },
  {
   "cell_type": "code",
   "execution_count": null,
   "id": "e9bd954e-ab64-4228-b776-0d4ca862286a",
   "metadata": {},
   "outputs": [],
   "source": []
  },
  {
   "cell_type": "code",
   "execution_count": null,
   "id": "02cd3b68-3a99-4345-853a-b070ae7c7d05",
   "metadata": {},
   "outputs": [],
   "source": [
    "pc = Pinecone()"
   ]
  },
  {
   "cell_type": "code",
   "execution_count": null,
   "id": "9887e00a-0d42-4cd3-9552-482829670047",
   "metadata": {},
   "outputs": [],
   "source": [
    "index_name = \"curryproductinfo\""
   ]
  },
  {
   "cell_type": "code",
   "execution_count": null,
   "id": "16a15dc7-64eb-4fb8-b00e-5cd2b2607200",
   "metadata": {},
   "outputs": [],
   "source": [
    "if index_name not in pc.list_indexes().names():\n",
    "    pc.create_index(\n",
    "        name=index_name,\n",
    "        dimension=3072,\n",
    "        metric=\"cosine\",\n",
    "        spec=ServerlessSpec(\n",
    "            cloud=\"aws\",\n",
    "            region=\"us-east-1\"\n",
    "        ) \n",
    "    )"
   ]
  },
  {
   "cell_type": "code",
   "execution_count": null,
   "id": "0ddf6860-7b78-490c-8ebc-27b25bd30877",
   "metadata": {},
   "outputs": [],
   "source": [
    "from langchain_pinecone.embeddings import PineconeEmbeddings"
   ]
  },
  {
   "cell_type": "code",
   "execution_count": null,
   "id": "a10f2f54-81fe-40cf-97fe-877ab7f50eca",
   "metadata": {},
   "outputs": [],
   "source": [
    "existing_indexes = [index_info[\"name\"] for index_info in pc.list_indexes()]\n",
    "    \n",
    "if index_name in existing_indexes:\n",
    "    vectorstore = PineconeVectorStore.from_existing_index(index_name, openAIEmbeddings)"
   ]
  },
  {
   "cell_type": "code",
   "execution_count": null,
   "id": "0b52f424-b139-4589-9430-21a0616e31cd",
   "metadata": {},
   "outputs": [],
   "source": [
    "vectorstore.add_documents(doc_data)"
   ]
  },
  {
   "cell_type": "code",
   "execution_count": null,
   "id": "772e49ea-1575-4ad9-adb7-d1d7296414d2",
   "metadata": {},
   "outputs": [],
   "source": [
    "query = \"ベジタリアン向けのカレーを教えてください\""
   ]
  },
  {
   "cell_type": "code",
   "execution_count": null,
   "id": "c2e541ab-6bc1-4a31-bcad-3631ae507458",
   "metadata": {},
   "outputs": [],
   "source": [
    "def perform_search(vectorstore, query):\n",
    "    results = vectorstore.similarity_search_with_relevance_scores(query, k=5)\n",
    "    for doc, score in results:\n",
    "        print(f\"* [SCORE={score}] [{doc.page_content}]\")"
   ]
  },
  {
   "cell_type": "code",
   "execution_count": null,
   "id": "e46930d0-c1c7-46a5-ae2f-35aee1468e1f",
   "metadata": {},
   "outputs": [],
   "source": [
    "perform_search(vectorstore, query)"
   ]
  },
  {
   "cell_type": "code",
   "execution_count": null,
   "id": "39615c95-3314-48e2-9997-7715dd2df8c9",
   "metadata": {},
   "outputs": [],
   "source": []
  },
  {
   "cell_type": "code",
   "execution_count": null,
   "id": "dd79e20a-4f3b-443d-b62d-b048299aa7da",
   "metadata": {},
   "outputs": [],
   "source": []
  }
 ],
 "metadata": {
  "kernelspec": {
   "display_name": "Python 3 (ipykernel)",
   "language": "python",
   "name": "python3"
  },
  "language_info": {
   "codemirror_mode": {
    "name": "ipython",
    "version": 3
   },
   "file_extension": ".py",
   "mimetype": "text/x-python",
   "name": "python",
   "nbconvert_exporter": "python",
   "pygments_lexer": "ipython3",
   "version": "3.12.4"
  }
 },
 "nbformat": 4,
 "nbformat_minor": 5
}
