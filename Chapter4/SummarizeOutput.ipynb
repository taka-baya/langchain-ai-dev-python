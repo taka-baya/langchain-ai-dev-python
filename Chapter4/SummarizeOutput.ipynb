{
 "cells": [
  {
   "cell_type": "code",
   "execution_count": null,
   "id": "55386da4-2be0-4359-84d4-db42d9bebf67",
   "metadata": {},
   "outputs": [],
   "source": [
    "import os\n",
    "os.environ['OPENAI_API_KEY'] = 'YOUR_OPENAI_APIKEY'\n",
    "os.environ['PINECONE_API_KEY'] = 'YOUR_PINECONE_APIKEY'"
   ]
  },
  {
   "cell_type": "code",
   "execution_count": null,
   "id": "7dbe4451-793f-4d35-8fd4-5480c043df11",
   "metadata": {},
   "outputs": [],
   "source": [
    "from langchain_openai import OpenAIEmbeddings, ChatOpenAI\n",
    "from langchain.prompts import ChatPromptTemplate\n",
    "from langchain_core.output_parsers import StrOutputParser\n",
    "from pinecone import Pinecone"
   ]
  },
  {
   "cell_type": "code",
   "execution_count": null,
   "id": "3a1dfae4-4732-49f6-b280-b4f3b2724f57",
   "metadata": {},
   "outputs": [],
   "source": [
    "openAIEmbeddings = OpenAIEmbeddings(model=\"text-embedding-3-large\")\n",
    "llm = ChatOpenAI(model=\"gpt-4o-mini\")"
   ]
  },
  {
   "cell_type": "code",
   "execution_count": null,
   "id": "4be7eb7f-d221-41d8-a853-497c22ecdba6",
   "metadata": {},
   "outputs": [],
   "source": [
    "index_name = \"curryproductinfo\"\n",
    "pc = Pinecone(api_key=os.environ.get(\"PINECONE_API_KEY\"))"
   ]
  },
  {
   "cell_type": "code",
   "execution_count": null,
   "id": "a4c8b687-b4cd-4277-b6ec-c222c899be99",
   "metadata": {},
   "outputs": [],
   "source": [
    "existing_indexes = [index_info[\"name\"] for index_info in pc.list_indexes()]\n",
    "    \n",
    "if index_name in existing_indexes:\n",
    "    index = pc.Index(index_name)"
   ]
  },
  {
   "cell_type": "code",
   "execution_count": null,
   "id": "4bcfbe80-2bfa-4ca9-be65-01ef8322718e",
   "metadata": {},
   "outputs": [],
   "source": [
    "class CreatePlomptMessages:\n",
    "    def __init__(self):\n",
    "        \"\"\"\n",
    "        CreatePlomptMessages\n",
    "        \"\"\"\n",
    "        pass\n",
    "    \n",
    "    def queryModification(self, query, model):\n",
    "        prompt_template = ChatPromptTemplate.from_messages([\n",
    "            (\"system\",\n",
    "            \"\"\"\n",
    "            あたなはRAG検索を行うためのクエリ生成のプロフェッショナルです。\n",
    "            - 特にRAG検索を行う際は、「XXXでは無い」、「XXXが含まれてない」、「XXX以外の」など、否定的な意味を修飾する単語をを削除して、「YYYな商品」、「YYYが含まれている商品」などのクエリに変換する必要があります。\n",
    "            - また、RAG検索を行うにあたって、ユーザーのメッセージが長い場合は要約して、検索しやすいクエリを生成してください。\n",
    "            - 出力する内容は、生成したクエリ文のみにしてください。\n",
    "            \"\"\"),\n",
    "            (\"user\", \"{query}\")\n",
    "        ])\n",
    "        parser = StrOutputParser()\n",
    "        chain = prompt_template | model | parser\n",
    "        return chain.invoke({\"query\": query})\n",
    "\n",
    "    def summarizeSearchResults(self, product_info, query, model):\n",
    "        prompt_template = ChatPromptTemplate.from_messages([\n",
    "            (\"system\",\n",
    "            \"\"\"\n",
    "            あたなはRAGの検索結果から、お客様に商品を案内するプロフェッショナルな店舗の営業マンです。\n",
    "            ユーザーの問い合わせ内容から、以下内容を要約して、ユーザーにわかりやすく商品をレコメンドしてください。\n",
    "            Docs\\n\\n {product_info},\n",
    "            \"\"\"),\n",
    "            (\"user\", \"{query}\")\n",
    "        ])\n",
    "        parser = StrOutputParser()\n",
    "        chain = prompt_template | model | parser\n",
    "        return chain.invoke({\"product_info\": product_info, \"query\": query})"
   ]
  },
  {
   "cell_type": "code",
   "execution_count": null,
   "id": "2913aa8c-3bdb-43d3-8dd0-24c6f9651f88",
   "metadata": {},
   "outputs": [],
   "source": []
  },
  {
   "cell_type": "code",
   "execution_count": null,
   "id": "37f3f116-dff2-414c-a565-b9e6972d12ca",
   "metadata": {},
   "outputs": [],
   "source": []
  },
  {
   "cell_type": "code",
   "execution_count": null,
   "id": "2cee41e0-5ccf-4d27-b2d9-bd503bfcfb71",
   "metadata": {},
   "outputs": [],
   "source": [
    "query = \"ベジタリアンでは無いカレーを教えてください\""
   ]
  },
  {
   "cell_type": "code",
   "execution_count": null,
   "id": "59b4922a-c4f0-43d2-a08e-1250dedae15a",
   "metadata": {},
   "outputs": [],
   "source": [
    "cpm = CreatePlomptMessages()"
   ]
  },
  {
   "cell_type": "code",
   "execution_count": null,
   "id": "54e77147-5438-4dbc-930c-d8f67b37f577",
   "metadata": {},
   "outputs": [],
   "source": [
    "newQuery = cpm.queryModification(query, llm)\n",
    "print(newQuery)"
   ]
  },
  {
   "cell_type": "code",
   "execution_count": null,
   "id": "f13e57e5-5fe2-4e8b-9c17-61259e28cef3",
   "metadata": {},
   "outputs": [],
   "source": [
    "embedded_query = openAIEmbeddings.embed_query(newQuery)"
   ]
  },
  {
   "cell_type": "code",
   "execution_count": null,
   "id": "d947452e-1e9c-40b9-9d7a-98e9293161a4",
   "metadata": {},
   "outputs": [],
   "source": [
    "results = index.query(vector=embedded_query, top_k=5, include_metadata=True)"
   ]
  },
  {
   "cell_type": "code",
   "execution_count": null,
   "id": "0673bf3e-0d4c-41d0-b156-b9c6f2fe41ce",
   "metadata": {},
   "outputs": [],
   "source": [
    "content = ''\n",
    "for result in results.matches:\n",
    "    content+=str(result.metadata['text']) + '\\n\\n\\n'\n",
    "   "
   ]
  },
  {
   "cell_type": "code",
   "execution_count": null,
   "id": "c622044c-a284-49a1-8e3c-fffe891d1f25",
   "metadata": {},
   "outputs": [],
   "source": [
    "output = cpm.summarizeSearchResults(content, query, llm)"
   ]
  },
  {
   "cell_type": "code",
   "execution_count": null,
   "id": "dd30eb06-5260-4933-b4d0-10e99a58160c",
   "metadata": {},
   "outputs": [],
   "source": [
    "print(output)"
   ]
  },
  {
   "cell_type": "code",
   "execution_count": null,
   "id": "a8cae6d0-b74a-4d61-9ed2-19699ed19b94",
   "metadata": {},
   "outputs": [],
   "source": []
  }
 ],
 "metadata": {
  "kernelspec": {
   "display_name": "Python 3 (ipykernel)",
   "language": "python",
   "name": "python3"
  },
  "language_info": {
   "codemirror_mode": {
    "name": "ipython",
    "version": 3
   },
   "file_extension": ".py",
   "mimetype": "text/x-python",
   "name": "python",
   "nbconvert_exporter": "python",
   "pygments_lexer": "ipython3",
   "version": "3.12.4"
  }
 },
 "nbformat": 4,
 "nbformat_minor": 5
}
