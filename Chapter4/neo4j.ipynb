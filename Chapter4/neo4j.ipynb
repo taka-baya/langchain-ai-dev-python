{
 "cells": [
  {
   "cell_type": "code",
   "execution_count": null,
   "id": "2a08284a-39ad-4d52-917a-3e2e1cf2ded1",
   "metadata": {},
   "outputs": [],
   "source": [
    "import os\n",
    "os.environ['OPENAI_API_KEY'] = 'YOUR_OPENAI_APIKEY'\n",
    "os.environ[\"NEO4J_URI\"] = 'YOUR_NEO4J_URI'\n",
    "os.environ[\"NEO4J_USERNAME\"] = \"neo4j\"\n",
    "os.environ[\"NEO4J_PASSWORD\"] = 'YOUR_NEO4J_PASSWORD'"
   ]
  },
  {
   "cell_type": "code",
   "execution_count": null,
   "id": "f60e0813-7b99-4068-91a1-6443e79b257c",
   "metadata": {},
   "outputs": [],
   "source": [
    "from langchain_openai import ChatOpenAI\n",
    "from langchain_community.graphs import Neo4jGraph\n",
    "from langchain_experimental.graph_transformers import LLMGraphTransformer"
   ]
  },
  {
   "cell_type": "code",
   "execution_count": null,
   "id": "2810708d-6901-4e35-abf1-80153702c024",
   "metadata": {},
   "outputs": [],
   "source": [
    "llm = ChatOpenAI(model=\"gpt-4o-mini\")"
   ]
  },
  {
   "cell_type": "code",
   "execution_count": null,
   "id": "fdbafc2e-14c9-48d6-b775-bb07a040816f",
   "metadata": {},
   "outputs": [],
   "source": [
    "file_path = \"./curry_menu_japanese.csv\""
   ]
  },
  {
   "cell_type": "code",
   "execution_count": null,
   "id": "c38c1b85-77ee-4a30-b6a3-603da779900c",
   "metadata": {},
   "outputs": [],
   "source": [
    "loader = CSVLoader(file_path=file_path)"
   ]
  },
  {
   "cell_type": "code",
   "execution_count": null,
   "id": "6c5c9bc6-9bc7-454d-8b41-845f9b4672c0",
   "metadata": {},
   "outputs": [],
   "source": [
    "doc_data = loader.load()"
   ]
  },
  {
   "cell_type": "code",
   "execution_count": null,
   "id": "de7373c6-a20a-4573-a1b4-3ff0395710fb",
   "metadata": {},
   "outputs": [],
   "source": []
  },
  {
   "cell_type": "code",
   "execution_count": null,
   "id": "97958998-a61a-4dc1-afd8-e3c7e8680bab",
   "metadata": {},
   "outputs": [],
   "source": []
  },
  {
   "cell_type": "code",
   "execution_count": null,
   "id": "de9a38ff-c93d-45b0-9a39-3315d5d144dc",
   "metadata": {},
   "outputs": [],
   "source": [
    "llm_transformer = LLMGraphTransformer(llm=llm)"
   ]
  },
  {
   "cell_type": "code",
   "execution_count": null,
   "id": "73674624-7585-42e4-9323-33a80645311c",
   "metadata": {},
   "outputs": [],
   "source": [
    "graph_documents = llm_transformer.convert_to_graph_documents(doc_data)"
   ]
  },
  {
   "cell_type": "code",
   "execution_count": null,
   "id": "cc860cd2-5117-41c3-8ef0-8640bc74a329",
   "metadata": {},
   "outputs": [],
   "source": [
    "print(graph_documents[0])"
   ]
  },
  {
   "cell_type": "code",
   "execution_count": null,
   "id": "2367b74b-50c1-4682-9981-f39dd60304bd",
   "metadata": {},
   "outputs": [],
   "source": [
    "graph = Neo4jGraph()"
   ]
  },
  {
   "cell_type": "code",
   "execution_count": null,
   "id": "347ed211-553a-4e5f-ad8d-1fd19057829f",
   "metadata": {},
   "outputs": [],
   "source": [
    "graph.add_graph_documents(graph_documents)"
   ]
  },
  {
   "cell_type": "code",
   "execution_count": null,
   "id": "a7cc7e87-a7ca-4f51-9dc6-f3e646aab835",
   "metadata": {},
   "outputs": [],
   "source": []
  },
  {
   "cell_type": "code",
   "execution_count": null,
   "id": "51a217e2-3d76-49fd-86ef-381020061cb7",
   "metadata": {},
   "outputs": [],
   "source": []
  },
  {
   "cell_type": "code",
   "execution_count": null,
   "id": "14ed90c8-2367-47bd-913b-048f960b5ddd",
   "metadata": {},
   "outputs": [],
   "source": [
    "from neo4j import GraphDatabase"
   ]
  },
  {
   "cell_type": "code",
   "execution_count": null,
   "id": "ef170d20-917d-497c-ab73-3e5a302207c4",
   "metadata": {},
   "outputs": [],
   "source": [
    "driver = GraphDatabase.driver(os.environ[\"NEO4J_URI\"], auth=(os.environ[\"NEO4J_USERNAME\"], os.environ['NEO4J_PASSWORD']))"
   ]
  },
  {
   "cell_type": "code",
   "execution_count": null,
   "id": "ef1154ab-d33c-4bd8-9757-0af51809f001",
   "metadata": {},
   "outputs": [],
   "source": [
    "records, summary, keys = driver.execute_query(\n",
    "    'MATCH (p:Product)-[:CONTAINS]->(i:Ingredient {id: \"ベイリーフ\"}) RETURN p.id AS ProductName',database_='neo4j')"
   ]
  },
  {
   "cell_type": "code",
   "execution_count": null,
   "id": "3981fd24-5a59-41a1-9b8a-5f6a3f668cf9",
   "metadata": {},
   "outputs": [],
   "source": [
    "for record in records:\n",
    "    print(record.data())"
   ]
  },
  {
   "cell_type": "code",
   "execution_count": null,
   "id": "2ffaec65-f5db-4807-aaa4-80b58ba90147",
   "metadata": {},
   "outputs": [],
   "source": []
  },
  {
   "cell_type": "code",
   "execution_count": null,
   "id": "97a26076-de8c-4dff-81c8-faafa5d9a03e",
   "metadata": {},
   "outputs": [],
   "source": []
  }
 ],
 "metadata": {
  "kernelspec": {
   "display_name": "Python 3 (ipykernel)",
   "language": "python",
   "name": "python3"
  },
  "language_info": {
   "codemirror_mode": {
    "name": "ipython",
    "version": 3
   },
   "file_extension": ".py",
   "mimetype": "text/x-python",
   "name": "python",
   "nbconvert_exporter": "python",
   "pygments_lexer": "ipython3",
   "version": "3.12.4"
  }
 },
 "nbformat": 4,
 "nbformat_minor": 5
}
